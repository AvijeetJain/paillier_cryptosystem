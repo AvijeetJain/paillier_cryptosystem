{
 "cells": [
  {
   "cell_type": "markdown",
   "metadata": {},
   "source": [
    "## **Pallier CryptoSystem**\n",
    "\n",
    "The **Paillier Cryptosystem** is a widely used public-key encryption scheme known for its **homomorphic properties**, which allow certain types of operations to be performed on ciphertexts without decrypting them. Here's a concise summary:\n",
    "\n",
    "1. **Inventor**: Pascal Paillier (1999).\n",
    "2. **Key Features**:\n",
    "   - **Additive Homomorphism**: Enables addition of plaintexts by performing operations on their ciphertexts.\n",
    "   - Useful in secure voting, private data aggregation, and multiparty computation.\n",
    "3. **Key Components**:\n",
    "   - **Public Key**: A large modulus \\( n \\) (product of two large primes) and a random base \\( g \\).\n",
    "   - **Private Key**: The prime factors of \\( n \\).\n",
    "4. **Encryption**: \n",
    "   - Plaintext \\( m \\) is encrypted using a random \\( r \\), ensuring probabilistic encryption (different ciphertexts for the same plaintext).\n",
    "   - Formula: \\( c = g^m \\cdot r^n \\mod n^2 \\).\n",
    "5. **Decryption**: \n",
    "   - Uses the private key to retrieve \\( m \\) from \\( c \\).\n",
    "   - Formula: \\( m = \\frac{L(c^{\\lambda} \\mod n^2)}{L(g^{\\lambda} \\mod n^2)} \\mod n \\), where \\( L(x) = \\frac{x-1}{n} \\).\n",
    "6. **Security**:\n",
    "   - Based on the hardness of the **Decisional Composite Residuosity (DCR)** problem.\n",
    "   - Ensures semantic security under chosen plaintext attacks.\n",
    "\n",
    "Its homomorphic properties make it particularly suited for privacy-preserving computations in sensitive data scenarios."
   ]
  },
  {
   "cell_type": "markdown",
   "metadata": {},
   "source": [
    "### Implementation\n",
    "\n",
    "Similar to RSA, we are firstly expected to pick two different large primes."
   ]
  },
  {
   "cell_type": "code",
   "execution_count": null,
   "metadata": {},
   "outputs": [],
   "source": [
    "p = 13\n",
    "q = 17\n",
    "assert p != q"
   ]
  },
  {
   "cell_type": "markdown",
   "metadata": {},
   "source": [
    "We should perform the primeness tests for p and q."
   ]
  },
  {
   "cell_type": "code",
   "execution_count": null,
   "metadata": {},
   "outputs": [],
   "source": [
    "def is_prime(n):\n",
    "    for i in range(2, n): # [2, n)\n",
    "        if n % i == 0:\n",
    "            return False\n",
    "    return True\n",
    "\n",
    "assert is_prime(p)\n",
    "assert is_prime(q)"
   ]
  },
  {
   "cell_type": "markdown",
   "metadata": {},
   "source": [
    "We then calculate the totient function of n where n is the multiplication of two primes we just picked."
   ]
  },
  {
   "cell_type": "code",
   "execution_count": null,
   "metadata": {},
   "outputs": [],
   "source": [
    "import math\n",
    "n = p*q\n",
    "phi = (p-1)*(q-1)\n",
    "assert math.gcd(n, phi) == 1"
   ]
  },
  {
   "cell_type": "markdown",
   "metadata": {},
   "source": [
    "Paillier cryptosystem depends on a L function such that L(x) = (x-1)/n. Notice that result of function L must be integer always. We will use this function in optionally key generation and decryption."
   ]
  },
  {
   "cell_type": "code",
   "execution_count": 12,
   "metadata": {},
   "outputs": [],
   "source": [
    "def lx(x):\n",
    "    y = (x-1)/n\n",
    "    assert y - int(y) == 0\n",
    "    return int(y)"
   ]
  },
  {
   "cell_type": "markdown",
   "metadata": {},
   "source": [
    "### Key Generation\n",
    "\n",
    "We are going to generate generator g, lamdba and mu. According to the original paper,\n",
    "\n",
    "- g should be picked randomly in range of [0, n*n]\n",
    "- Lambda is the least common multiple (lcm) of p-1 and q-1. Lcm function comes with python 3.9.\n",
    "- Mu should be calculated with the formula such that μ = ( L(g^λ mod n^2) )^-1"
   ]
  },
  {
   "cell_type": "code",
   "execution_count": 18,
   "metadata": {},
   "outputs": [],
   "source": [
    "import random \n",
    "import math \n",
    "\n",
    "g = random.randint(0, n*n)\n",
    "lmbda = math.lcm(p-1, q-1)\n",
    "mu = pow(lx(pow(g, lmbda, n*n)), -1, n)"
   ]
  },
  {
   "cell_type": "markdown",
   "metadata": {},
   "source": [
    "Instead, we are simply able to generate these values as:\n",
    "\n",
    "- g should be equal to n plus 1\n",
    "- lambda should be equal to the totient function of n or shortly phi\n",
    "- mu is equal to the multiplicative inverse of lambda in mod n"
   ]
  },
  {
   "cell_type": "code",
   "execution_count": 19,
   "metadata": {},
   "outputs": [],
   "source": [
    "g = n + 1\n",
    "lmbda = phi * 1\n",
    "mu = pow(lmbda, -1, n)"
   ]
  },
  {
   "cell_type": "markdown",
   "metadata": {},
   "source": [
    "### Encryption and Decryption \n",
    "\n",
    "So, we are going to use following function to encrypt and decrypt messages. Notice that modulus is n squared is required in encryption whereas n itself is required in decryption."
   ]
  },
  {
   "cell_type": "code",
   "execution_count": 21,
   "metadata": {},
   "outputs": [],
   "source": [
    "def encrypt(m, r):\n",
    "    assert math.gcd(r, n) == 1\n",
    "    c = ( pow(g, m, n*n) * pow(r, n, n*n) ) % (n*n)\n",
    "    return c\n",
    " \n",
    "def decrypt(c):\n",
    "    p = ( lx(pow(c, lmbda, n*n)) * mu ) % n\n",
    "    return p"
   ]
  },
  {
   "cell_type": "code",
   "execution_count": 22,
   "metadata": {},
   "outputs": [],
   "source": [
    "m = 123\n",
    "r = random.randint(0, n)\n",
    " \n",
    "c = encrypt(m, r)\n",
    "p = decrypt(c)\n",
    " \n",
    "assert p == m"
   ]
  },
  {
   "cell_type": "markdown",
   "metadata": {},
   "source": [
    "#### Additive homomorphic implementation\n",
    "\n",
    "Let’s encrypt a message pair with Paillier cryptosystem."
   ]
  },
  {
   "cell_type": "code",
   "execution_count": 24,
   "metadata": {},
   "outputs": [],
   "source": [
    "m1 = 123\n",
    "r1 = random.randint(0, n)\n",
    " \n",
    "m2 = 38\n",
    "r2 = random.randint(0, n)\n",
    " \n",
    "c1 = encrypt(m1, r1)\n",
    "c2 = encrypt(m2, r2)"
   ]
  },
  {
   "cell_type": "markdown",
   "metadata": {},
   "source": [
    "The following rule must be satisfied always because we proven Paillier is homomorphic with respect to the addition."
   ]
  },
  {
   "cell_type": "code",
   "execution_count": 25,
   "metadata": {},
   "outputs": [],
   "source": [
    "assert (c1*c2) % (n*n) == encrypt(m1 + m2, r1*r2)\n"
   ]
  },
  {
   "cell_type": "code",
   "execution_count": null,
   "metadata": {},
   "outputs": [
    {
     "name": "stdout",
     "output_type": "stream",
     "text": [
      "Cipher of 123 is : 34585\n",
      "Cipher of 38 is : 29862\n",
      "\n",
      "Sum of 123 and 38 is : 161\n",
      "\n",
      "Sum of cipher 64447 is : 34325\n",
      "Decrypted sum is : 161\n"
     ]
    }
   ],
   "source": [
    "print (f\"Cipher of {m1} is : {c1}\")\n",
    "print (f\"Cipher of {m2} is : {c2}\")\n",
    "print()\n",
    "\n",
    "print (f\"Sum of {m1} and {m2} is : {m1+m2}\")\n",
    "print()\n",
    "print(f\"Sum of cipher {c1 + c2} is : {c1*c2 % (n*n)}\")\n",
    "print (f\"Decrypted sum is : {decrypt(c1*c2 % (n*n))}\")"
   ]
  }
 ],
 "metadata": {
  "kernelspec": {
   "display_name": "Python 3",
   "language": "python",
   "name": "python3"
  },
  "language_info": {
   "codemirror_mode": {
    "name": "ipython",
    "version": 3
   },
   "file_extension": ".py",
   "mimetype": "text/x-python",
   "name": "python",
   "nbconvert_exporter": "python",
   "pygments_lexer": "ipython3",
   "version": "3.12.1"
  }
 },
 "nbformat": 4,
 "nbformat_minor": 2
}
